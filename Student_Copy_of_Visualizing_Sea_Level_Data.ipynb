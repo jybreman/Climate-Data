{
  "nbformat": 4,
  "nbformat_minor": 0,
  "metadata": {
    "colab": {
      "provenance": [],
      "include_colab_link": true
    },
    "kernelspec": {
      "name": "python3",
      "display_name": "Python 3"
    },
    "language_info": {
      "name": "python"
    }
  },
  "cells": [
    {
      "cell_type": "markdown",
      "metadata": {
        "id": "view-in-github",
        "colab_type": "text"
      },
      "source": [
        "<a href=\"https://colab.research.google.com/github/jybreman/Climate-Data/blob/main/Student_Copy_of_Visualizing_Sea_Level_Data.ipynb\" target=\"_parent\"><img src=\"https://colab.research.google.com/assets/colab-badge.svg\" alt=\"Open In Colab\"/></a>"
      ]
    },
    {
      "cell_type": "markdown",
      "source": [
        "# Welcome!"
      ],
      "metadata": {
        "id": "ZIh3vmynRnwz"
      }
    },
    {
      "cell_type": "markdown",
      "source": [
        "# Click on the arrow to the left of the Intros header below to view the hidden cells.\n",
        "\n"
      ],
      "metadata": {
        "id": "WENO6gM9lCJ0"
      }
    },
    {
      "cell_type": "markdown",
      "source": [
        "# Intros\n",
        "\n"
      ],
      "metadata": {
        "id": "X8cNTR6fMCZ6"
      }
    },
    {
      "cell_type": "markdown",
      "source": [
        "This is called a Jupyter Notebook. It's like a Google Doc, but for writing code in the Python language.\n",
        "\n",
        "In this notebook you will be visualising some data. In other words you are going to make a graph. The data you are going to look at is mean sea level data taken by the STND- Key West Station Datum. The data is in meters from the station.\n",
        "\n",
        "Work your way through this notebook to vizualize the data and draw some conclusions."
      ],
      "metadata": {
        "id": "qYjpc0caSvhi"
      }
    },
    {
      "cell_type": "markdown",
      "source": [
        "#Getting started\n"
      ],
      "metadata": {
        "id": "0PQlAubFMxq2"
      }
    },
    {
      "cell_type": "markdown",
      "source": [
        "First we have to import some modules. It's like taking a book off the shelf in the library and being able to use the material inside the book.\n",
        "\n",
        "Run the code below to import the modules we are going to use. To run a cell of code you can click on the play icon in the upper left corner of the cell."
      ],
      "metadata": {
        "id": "TpHzQJiZSpzd"
      }
    },
    {
      "cell_type": "code",
      "source": [
        "# Anything in green is a comment. It is not part of the code, but it is useful to the human reading the code.\n",
        "# This code gets us the modules we are going to use to do stuff. Notice that once we import the modules we are assigning them abbreviated names to use later.\n",
        "import pandas as pd\n",
        "import numpy as np\n",
        "import matplotlib as mpl\n",
        "import matplotlib.pyplot as plt"
      ],
      "metadata": {
        "id": "vDT5DitSNQVb"
      },
      "execution_count": null,
      "outputs": []
    },
    {
      "cell_type": "markdown",
      "source": [
        "Now we need to get our data. It comes from [this](https://portal.edirepository.org/nis/mapbrowse?packageid=knb-lter-fce.1059.14) website. Feel free to read up on it. I put the data in my GitHub repository for easy access.\n",
        "\n",
        "When you are ready, run the code cell below to import the data."
      ],
      "metadata": {
        "id": "M5o5jBm5OK0Z"
      }
    },
    {
      "cell_type": "code",
      "execution_count": null,
      "metadata": {
        "id": "tB9aN0xLeDrS"
      },
      "outputs": [],
      "source": [
        "# Import your data. See the Credits for the website this data came from\n",
        "url = 'https://raw.githubusercontent.com/jybreman/geochristmas/main/FCE_KeyWestStation_MeanSeaLevels.csv'\n",
        "data = pd.read_csv(url)\n",
        "# Here we made a variable called 'data' and assigned the data from my GitHub to it. We will use this variable a lot.\n",
        "# Remember, if you change the varibale here, you have to change it everywhere that you use it.\n"
      ]
    },
    {
      "cell_type": "markdown",
      "source": [
        "Want to see what the data you just imported looks like?\n",
        "\n",
        "Run the cell below to see the first 'n' rows of data. I set 'n' to 8, but you can choose whatever value you want."
      ],
      "metadata": {
        "id": "mLSGvdx2QL-z"
      }
    },
    {
      "cell_type": "code",
      "source": [
        "# Print the first 8 lines of data (or whatever number of lines you put in parenthesis, 5 is the default)\n",
        "data.head(8)"
      ],
      "metadata": {
        "id": "zxK2VvszQbrD"
      },
      "execution_count": null,
      "outputs": []
    },
    {
      "cell_type": "markdown",
      "source": [
        "I don't like the underscore in the title of the first column, so I'm going to change the column names. You can chage them to whatever you want, but remeber it needs to be a helpful name so someone else can understand your code."
      ],
      "metadata": {
        "id": "i4wYUb2PQe8c"
      }
    },
    {
      "cell_type": "code",
      "source": [
        "# Rename the columns\n",
        "data.columns = ['StationID', 'Year', 'Month', 'MSL']\n",
        "# Data is in meters. MSL stands for Mean Sea Level.\n",
        "\n",
        "data.head()"
      ],
      "metadata": {
        "id": "OpKjGEhtQuA4"
      },
      "execution_count": null,
      "outputs": []
    },
    {
      "cell_type": "markdown",
      "source": [
        "# Visualizing"
      ],
      "metadata": {
        "id": "i8VzIx5JKfyg"
      }
    },
    {
      "cell_type": "markdown",
      "source": [
        "***What is a mean? Why would it be beneficial to use the mean sea level as opposed to the actual sea level at a given moment? Consider what you know about ocean movement.***\n",
        "\n",
        "```\n",
        "Double click on this cell and type your thoughts here.\n",
        "Notice them populating in a grey box to the right? Cool huh!?\n",
        "You can double click on the cell to the right to close out this markdown cell.\n",
        "\n",
        "```"
      ],
      "metadata": {
        "id": "LOxivIm5SRIs"
      }
    },
    {
      "cell_type": "markdown",
      "source": [
        "Let's start visualizing the data by making something simple. A scatterplot. We are all familiar with those, right? Just a bunch of dots representing X and Y values."
      ],
      "metadata": {
        "id": "nN2wUsjBTNv3"
      }
    },
    {
      "cell_type": "code",
      "source": [
        "# This creates a scatterplot of some of the data.\n",
        "plt.scatter(data['StationID'], data['Year'], 2, 'green')\n",
        "\n",
        "# You have to tell python to show you the scatterplot\n",
        "plt.show()"
      ],
      "metadata": {
        "id": "o76KGjBPgw4b"
      },
      "execution_count": null,
      "outputs": []
    },
    {
      "cell_type": "markdown",
      "source": [
        "***Well thats interesting! What do you think is going on here?***\n",
        "\n",
        "```\n",
        "Double click on this cell and type your thoughts here.\n",
        "\n",
        "```\n",
        "\n",
        "What do those first two arguments in the scatter function do? Try changing them.\n",
        "\n",
        "How could we change the code to plot something that might be more meaningful?\n",
        "\n",
        "Modify the code above to plot something different."
      ],
      "metadata": {
        "id": "4xxDs18MVTev"
      }
    },
    {
      "cell_type": "markdown",
      "source": [
        "# Looking Closer"
      ],
      "metadata": {
        "id": "NephHov9Wso8"
      }
    },
    {
      "cell_type": "markdown",
      "source": [
        "Now that you have made some scatterplots try writing the code to make a plot with Month on the X axis and Mean Sea Level on the Y axis. Feel free to look back at other parts of this notebook."
      ],
      "metadata": {
        "id": "BOfVuT-sWXzy"
      }
    },
    {
      "cell_type": "code",
      "source": [
        "# Write code here.\n"
      ],
      "metadata": {
        "id": "w5CLyoTnVqYg"
      },
      "execution_count": null,
      "outputs": []
    },
    {
      "cell_type": "markdown",
      "source": [
        "***That's pretty!***\n",
        "\n",
        "***What story is this plot telling?***\n",
        "\n",
        "***What can you conclude based on this plot alone? Anything?***\n",
        "\n",
        "```\n",
        "Double click on this cell and type your thoughts here.\n",
        "\n",
        "```\n",
        "\n"
      ],
      "metadata": {
        "id": "JsXggpbvMKT3"
      }
    },
    {
      "cell_type": "markdown",
      "source": [
        "When did this station start collecting data? Run the code below to find out."
      ],
      "metadata": {
        "id": "HqE8Mux1Xb5-"
      }
    },
    {
      "cell_type": "code",
      "source": [
        "data['Year'].agg(['min'])"
      ],
      "metadata": {
        "id": "EsZu4TUtkM7q"
      },
      "execution_count": null,
      "outputs": []
    },
    {
      "cell_type": "markdown",
      "source": [
        "Use the cell below to write code to determine what year the most recent data was taken?"
      ],
      "metadata": {
        "id": "c4Ula9GsXsKz"
      }
    },
    {
      "cell_type": "code",
      "source": [
        "# Write code here.\n"
      ],
      "metadata": {
        "id": "E-dSfgluX3js"
      },
      "execution_count": null,
      "outputs": []
    },
    {
      "cell_type": "markdown",
      "source": [
        "What about the first year data was collected?"
      ],
      "metadata": {
        "id": "u0yHnFBaiKm6"
      }
    },
    {
      "cell_type": "code",
      "source": [
        "# Write code here."
      ],
      "metadata": {
        "id": "5_wGnvH866Pt"
      },
      "execution_count": null,
      "outputs": []
    },
    {
      "cell_type": "markdown",
      "source": [
        "What is the lowest sea level point collected?"
      ],
      "metadata": {
        "id": "030aaJZcU39H"
      }
    },
    {
      "cell_type": "code",
      "source": [
        "# Write code here."
      ],
      "metadata": {
        "id": "2_zjs-MokZKD"
      },
      "execution_count": null,
      "outputs": []
    },
    {
      "cell_type": "markdown",
      "source": [
        "What is the highest?"
      ],
      "metadata": {
        "id": "zj0yiZRxifLi"
      }
    },
    {
      "cell_type": "code",
      "source": [
        "# Write code here."
      ],
      "metadata": {
        "id": "tT1PqVPmigx8"
      },
      "execution_count": null,
      "outputs": []
    },
    {
      "cell_type": "markdown",
      "source": [
        "# Analyzing Data"
      ],
      "metadata": {
        "id": "bKHVWzchYsd3"
      }
    },
    {
      "cell_type": "markdown",
      "source": [
        "Run the cell below to see our beautiful scatterplot again."
      ],
      "metadata": {
        "id": "eAcNyhmBaBi7"
      }
    },
    {
      "cell_type": "code",
      "source": [
        "plt.scatter(data['Month'], data['MSL'], 2, 'green')\n",
        "plt.show()"
      ],
      "metadata": {
        "id": "QgL_JEmdZOAO"
      },
      "execution_count": null,
      "outputs": []
    },
    {
      "cell_type": "markdown",
      "source": [
        "Now let's look at some individual years. I want to see what the sea levels were like in 1990 specifically. I can't tell from this scatterplot where that year is.\n",
        "\n",
        "First let's add some labels. What does the X axis represent? What does the Y axis represent? What would be a descriptive title?\n",
        "\n",
        "Modify the cell below to create useful labels, then run it."
      ],
      "metadata": {
        "id": "PNMQDUQsVHYO"
      }
    },
    {
      "cell_type": "code",
      "source": [
        "plt.scatter(data['Month'], data['MSL'], 2, 'blue')\n",
        "\n",
        "# Labels\n",
        "plt.xlabel('idk. it was Noah')\n",
        "plt.ylabel('label me!')\n",
        "plt.title('its a secret')\n",
        "\n",
        "plt.show()"
      ],
      "metadata": {
        "id": "Lzz56YsEahyS"
      },
      "execution_count": null,
      "outputs": []
    },
    {
      "cell_type": "markdown",
      "source": [
        "Now let's highlight the year 1990 by adding a line to connect the datapoints from that year."
      ],
      "metadata": {
        "id": "vS5BG99Jcf3r"
      }
    },
    {
      "cell_type": "code",
      "source": [
        "# We're going to make a variable called 'data1990' and set it equal to just the data from the row where the Year is 1990.\n",
        "# Calling certain rows of data from your set is called a query.\n",
        "data1990 = data.query('Year == 1990')\n",
        "# There are two equal signs because == means \"true\". It's called a boolean.\n",
        "# This is different from = because we aren't setting a value to 1990. Instead we are retreiving the data where a value IS 1990.\n",
        "\n",
        "# We still want to see our original scatterplot\n",
        "plt.scatter(data['Month'], data['MSL'], 2, 'blue')\n",
        "\n",
        "# The plt.plot function creates our line graph.\n",
        "plt.plot(data1990['Month'], data1990['MSL'], 'red', label = '1990')\n",
        "\n",
        "# We still want our labels\n",
        "plt.xlabel('idk. it was Noah')\n",
        "plt.ylabel('label me!')\n",
        "plt.title('its a secret')\n",
        "\n",
        "# This line of code adds a legend (also known as a key). You can change it's title and location.\n",
        "plt.legend(title='?', loc='upper left')\n",
        "\n",
        "# Now lets look at what we've coded!\n",
        "plt.show()"
      ],
      "metadata": {
        "id": "Z8Yy-bd7cvUD"
      },
      "execution_count": null,
      "outputs": []
    },
    {
      "cell_type": "markdown",
      "source": [
        "***Now that we can see what happened in a specific year, what conclusions can you draw that you may not have been able to see before?***\n",
        "\n",
        "```\n",
        "Double click on this cell and type your thoughts here.\n",
        "\n",
        "```"
      ],
      "metadata": {
        "id": "dqahdRjTelxb"
      }
    },
    {
      "cell_type": "markdown",
      "source": [
        "Sure, we could talk about what happened in one year, but what about three or even more years?\n",
        "\n",
        "Modify the code in the cell below to plot lines for the earliest year and the latest year that data was collected plus one year in between. You can reference earlier parts of the notebook if you forgot what the earliest and latest years were."
      ],
      "metadata": {
        "id": "UJvy1FU6fGiY"
      }
    },
    {
      "cell_type": "code",
      "source": [
        "# You need variables for all your dates. I'll get it started for you. I chose a random year.\n",
        "dataYear1 = data.query('Year == 1917')\n",
        "\n",
        "\n",
        "# We still want to see the original scatterplot\n",
        "\n",
        "\n",
        "# Plot your three lines. I have done a random year for you.\n",
        "plt.plot(dataYear1['Month'], dataYear1['MSL'], 'magenta', label = '1917')\n",
        "\n",
        "\n",
        "# Labels\n",
        "\n",
        "\n",
        "# Add the legend\n",
        "\n",
        "\n",
        "# Show your work\n",
        "plt.show()"
      ],
      "metadata": {
        "id": "BX9ClzFCFL-v"
      },
      "execution_count": null,
      "outputs": []
    },
    {
      "cell_type": "markdown",
      "source": [
        "***What happened? Why might this issue be occuring? What can you change in the code to address it?***\n",
        "\n",
        "```\n",
        "Double click on this cell and type your thoughts here.\n",
        "```\n",
        "\n",
        "Copy and paste your work in the code below and tweak it so so we get a full plot."
      ],
      "metadata": {
        "id": "oXd1_MjZ8CAF"
      }
    },
    {
      "cell_type": "code",
      "source": [
        "# Copy, paste, and edit code here."
      ],
      "metadata": {
        "id": "JWXdet_p8ZzF"
      },
      "execution_count": null,
      "outputs": []
    },
    {
      "cell_type": "markdown",
      "source": [
        "We know when the station started collecting data, and what the minimun mean sea level is, but what years did the lowest and highest sea levels occur?\n",
        "\n",
        "Use the code in the two cells below to find out."
      ],
      "metadata": {
        "id": "TByygybZYdKA"
      }
    },
    {
      "cell_type": "code",
      "source": [
        "# Input the minimum sea level in place of '100' to locate the row it occures on and output the corrosponding data.\n",
        "data.loc[data['MSL'] ==  100]"
      ],
      "metadata": {
        "id": "3GJATaxDYctE"
      },
      "execution_count": null,
      "outputs": []
    },
    {
      "cell_type": "code",
      "source": [
        "# Now find the year with the highest mean sea level.\n",
        "# Write code here...\n"
      ],
      "metadata": {
        "id": "bBUzA2FCaU7k"
      },
      "execution_count": null,
      "outputs": []
    },
    {
      "cell_type": "markdown",
      "source": [
        "I wonder what we will see if we plot lines for those years. Modify the code below with the appropriate years to plot the graph."
      ],
      "metadata": {
        "id": "pKO32TRdih_4"
      }
    },
    {
      "cell_type": "code",
      "source": [
        "# Fix me\n",
        "dataYear4 = data.query('Year == 1990')\n",
        "dataYear5 = data.query('Year == 1947')\n",
        "\n",
        "plt.scatter(data['Month'], data['MSL'], 2, 'black')\n",
        "\n",
        "plt.plot(dataYear4['Month'], dataYear4['MSL'], 'red', label = '1990')\n",
        "plt.plot(dataYear5['Month'], dataYear5['MSL'], 'yellow', label = '1947')\n",
        "\n",
        "\n",
        "plt.xlabel('idk. it was Noah')\n",
        "plt.ylabel('label me!')\n",
        "plt.title('its a secret')\n",
        "\n",
        "plt.legend(title='???', loc='center')\n",
        "\n",
        "plt.show()"
      ],
      "metadata": {
        "id": "U6N8ttGHaoPB"
      },
      "execution_count": null,
      "outputs": []
    },
    {
      "cell_type": "markdown",
      "source": [
        "***What might have happened to cause these extreme values during those pariticular years?***\n",
        "\n",
        "***What do you think this plot would look like if we had another hundred years worth of data?***\n",
        "\n",
        "***What other analysis can we do with this data?***\n",
        "\n",
        "```\n",
        "Double click on this cell and type your thoughts here.\n",
        "\n",
        "```"
      ],
      "metadata": {
        "id": "HJleJPqHcMlD"
      }
    },
    {
      "cell_type": "markdown",
      "source": [
        "***You have barely scratched the surface of what you could do with data analysis and visualization in Python using Jupyter Notebooks in Google Colaboratory. How do you think you might apply the skills you have jest leanred to explore something that interests you?***\n",
        "\n",
        "```\n",
        "Double click on this cell and type your thoughts here.\n",
        "\n",
        "```"
      ],
      "metadata": {
        "id": "12Sp-O86fz3M"
      }
    },
    {
      "cell_type": "markdown",
      "source": [
        "# Let's Keep Digging"
      ],
      "metadata": {
        "id": "JGCOCHG8q_qJ"
      }
    },
    {
      "cell_type": "markdown",
      "source": [
        "Let's import another data set. This one is from [NOAA](https://tidesandcurrents.noaa.gov/sltrends/sltrends_station.shtml?id=8665530). It contains mean sea level information from Charelston, South Carolina from 1901 to 2023. The Mean Sea Level is measured in meters."
      ],
      "metadata": {
        "id": "n_Ft4FmarLI1"
      }
    },
    {
      "cell_type": "code",
      "source": [
        "# This time I am naming the data set df (short for data frame). Change the name to whatever you want.\n",
        "df = pd.read_csv('https://github.com/jybreman/geochristmas/raw/main/8665530_meantrend.csv')\n",
        "df.head()\n"
      ],
      "metadata": {
        "id": "mxU5Z9xJsCa-"
      },
      "execution_count": null,
      "outputs": []
    },
    {
      "cell_type": "code",
      "source": [
        "# There are some columns here that we aren't intersted in.\n",
        "# This line of code creates a new dataframe without those columns and assigns it the name df.\n",
        "df = df.drop(df.columns[[3, 4, 5, 6]], axis=1)\n",
        "df.head()"
      ],
      "metadata": {
        "id": "kHNGLdA4vR_y"
      },
      "execution_count": null,
      "outputs": []
    },
    {
      "cell_type": "markdown",
      "source": [
        "Now that we have another cleaned up data set let's see what the data looks like."
      ],
      "metadata": {
        "id": "W7G07zShqfWa"
      }
    },
    {
      "cell_type": "code",
      "source": [
        "# Write some code to visualize the new data here...\n"
      ],
      "metadata": {
        "id": "SLl5xNfKqsxF"
      },
      "execution_count": null,
      "outputs": []
    },
    {
      "cell_type": "markdown",
      "source": [
        "***What story is this plot telling?***\n",
        "\n",
        "***How is it similar to the Key West data that we looked at?***\n",
        "\n",
        "***How is it different?***\n",
        "\n",
        "```\n",
        "Double click on this cell and type your thoughts her.\n",
        "\n",
        "```"
      ],
      "metadata": {
        "id": "X7vMAvrcrQb5"
      }
    },
    {
      "cell_type": "markdown",
      "source": [
        "Use what you have learned in this notebook to analyze the North Carolina data and determine if conclusions can be drawn.\n",
        "\n",
        "***If so, what are they?***\n",
        "\n",
        "***If not, why not?***\n",
        "\n",
        "```\n",
        "Double click on this cell and type your thoughts here.\n",
        "\n",
        "```"
      ],
      "metadata": {
        "id": "v189pb-csUzy"
      }
    },
    {
      "cell_type": "code",
      "source": [
        "# Type your code here...\n"
      ],
      "metadata": {
        "id": "2tpyOmq-_E-R"
      },
      "execution_count": null,
      "outputs": []
    },
    {
      "cell_type": "markdown",
      "source": [
        "***After you have completed your anaysis: There is a snippet of code below that will output something pretty cool. Run the code. What conclusions can you draw from the output?***\n",
        "\n",
        "```\n",
        "Double click on this cell and type your thoughts here.\n",
        "\n",
        "```"
      ],
      "metadata": {
        "id": "rlOmWgxD7fiT"
      }
    },
    {
      "cell_type": "code",
      "source": [
        "n = len(df['Year'].unique())\n",
        "colors = mpl.cm.jet(np.linspace(0,1,n))\n",
        "i = 0\n",
        "\n",
        "for year in df['Year'].unique():\n",
        "  temp = pd.DataFrame()\n",
        "  temp = df.copy()\n",
        "  temp = temp.query('Year == @year')\n",
        "  plt.plot(temp['Month'], temp['Monthly_MSL'], color=colors[i])\n",
        "  i = i+1\n",
        "\n",
        "plt.show()"
      ],
      "metadata": {
        "id": "bP_JNEiM88md"
      },
      "execution_count": null,
      "outputs": []
    },
    {
      "cell_type": "markdown",
      "source": [
        "# Credits\n",
        "\n",
        "This notebook was designed by [Quarknet](https://quarknet.org/) Coding Fellow Joy Breman with the help of Quarknet Teaching and Learning Fellow Adam Lamee. and Quarknet Coding Fellow Megan Alvord. The data used was imported from the [EDI Data Portal](https://portal.edirepository.org/nis/mapbrowse?packageid=knb-lter-fce.1059.14). Thanks to the great folks at [Binder](https://mybinder.org/) and [Google Colaboratory](https://colab.research.google.com/notebooks/intro.ipynb) for making this notebook interactive without you needing to download it or install [Jupyter](https://jupyter.org/) on your own device. Find more activities at Adam's site, [CODINGinK12.org](https://adamlamee.github.io/CODINGinK12/teachers)."
      ],
      "metadata": {
        "id": "DFsFHzM4ggaN"
      }
    }
  ]
}